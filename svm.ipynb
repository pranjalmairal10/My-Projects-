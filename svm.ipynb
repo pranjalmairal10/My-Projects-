{
 "cells": [
  {
   "cell_type": "code",
   "execution_count": 9,
   "id": "0995a7d3",
   "metadata": {},
   "outputs": [],
   "source": [
    "import numpy as np\n",
    "import pandas as pd                                            #used to create dataframes which helps us to structure eour data more\n",
    "from sklearn.model_selection import train_test_split\n",
    "from sklearn.feature_extraction.text import TfidfVectorizer   # to convert text data into more meaningful data for machine or in more numerical way \n",
    "# so that our machine learning model can understand it using feature vectors\n",
    "from sklearn.feature_extraction.text import CountVectorizer\n",
    "from sklearn.ensemble import RandomForestClassifier \n",
    "from sklearn.svm import LinearSVC\n",
    "from sklearn.metrics import confusion_matrix\n",
    "from sklearn.pipeline import Pipeline\n",
    "from sklearn.metrics import accuracy_score"
   ]
  },
  {
   "cell_type": "code",
   "execution_count": 10,
   "id": "db74f37a",
   "metadata": {},
   "outputs": [],
   "source": [
    "raw_mails = pd.read_csv(\"C:\\\\Users\\\\HP\\\\Desktop\\\\nirma sem 5\\\\machine learning\\\\ML special\\\\spam_ham_dataset.csv\\\\spam_ham_dataset.csv\")"
   ]
  },
  {
   "cell_type": "code",
   "execution_count": 11,
   "id": "74d8f615",
   "metadata": {},
   "outputs": [
    {
     "data": {
      "text/html": [
       "<div>\n",
       "<style scoped>\n",
       "    .dataframe tbody tr th:only-of-type {\n",
       "        vertical-align: middle;\n",
       "    }\n",
       "\n",
       "    .dataframe tbody tr th {\n",
       "        vertical-align: top;\n",
       "    }\n",
       "\n",
       "    .dataframe thead th {\n",
       "        text-align: right;\n",
       "    }\n",
       "</style>\n",
       "<table border=\"1\" class=\"dataframe\">\n",
       "  <thead>\n",
       "    <tr style=\"text-align: right;\">\n",
       "      <th></th>\n",
       "      <th>Unnamed: 0</th>\n",
       "      <th>label</th>\n",
       "      <th>text</th>\n",
       "      <th>label_num</th>\n",
       "    </tr>\n",
       "  </thead>\n",
       "  <tbody>\n",
       "    <tr>\n",
       "      <th>0</th>\n",
       "      <td>605</td>\n",
       "      <td>ham</td>\n",
       "      <td>Subject: enron methanol ; meter # : 988291\\r\\n...</td>\n",
       "      <td>0</td>\n",
       "    </tr>\n",
       "    <tr>\n",
       "      <th>1</th>\n",
       "      <td>2349</td>\n",
       "      <td>ham</td>\n",
       "      <td>Subject: hpl nom for january 9 , 2001\\r\\n( see...</td>\n",
       "      <td>0</td>\n",
       "    </tr>\n",
       "    <tr>\n",
       "      <th>2</th>\n",
       "      <td>3624</td>\n",
       "      <td>ham</td>\n",
       "      <td>Subject: neon retreat\\r\\nho ho ho , we ' re ar...</td>\n",
       "      <td>0</td>\n",
       "    </tr>\n",
       "    <tr>\n",
       "      <th>3</th>\n",
       "      <td>4685</td>\n",
       "      <td>spam</td>\n",
       "      <td>Subject: photoshop , windows , office . cheap ...</td>\n",
       "      <td>1</td>\n",
       "    </tr>\n",
       "    <tr>\n",
       "      <th>4</th>\n",
       "      <td>2030</td>\n",
       "      <td>ham</td>\n",
       "      <td>Subject: re : indian springs\\r\\nthis deal is t...</td>\n",
       "      <td>0</td>\n",
       "    </tr>\n",
       "  </tbody>\n",
       "</table>\n",
       "</div>"
      ],
      "text/plain": [
       "   Unnamed: 0 label                                               text  \\\n",
       "0         605   ham  Subject: enron methanol ; meter # : 988291\\r\\n...   \n",
       "1        2349   ham  Subject: hpl nom for january 9 , 2001\\r\\n( see...   \n",
       "2        3624   ham  Subject: neon retreat\\r\\nho ho ho , we ' re ar...   \n",
       "3        4685  spam  Subject: photoshop , windows , office . cheap ...   \n",
       "4        2030   ham  Subject: re : indian springs\\r\\nthis deal is t...   \n",
       "\n",
       "   label_num  \n",
       "0          0  \n",
       "1          0  \n",
       "2          0  \n",
       "3          1  \n",
       "4          0  "
      ]
     },
     "execution_count": 11,
     "metadata": {},
     "output_type": "execute_result"
    }
   ],
   "source": [
    "# we have to replace null values or missing values with null strings\n",
    "mail_data = raw_mails.where((pd.notnull(raw_mails)),'')\n",
    "\n",
    "# getting the first 5 rows of our dataset\n",
    "mail_data.head()"
   ]
  },
  {
   "cell_type": "code",
   "execution_count": 12,
   "id": "9fa8e04f",
   "metadata": {},
   "outputs": [
    {
     "data": {
      "text/plain": [
       "(5171, 4)"
      ]
     },
     "execution_count": 12,
     "metadata": {},
     "output_type": "execute_result"
    }
   ],
   "source": [
    "# checking number of rows and columns \n",
    "\n",
    "mail_data.shape"
   ]
  },
  {
   "cell_type": "code",
   "execution_count": 13,
   "id": "881057d6",
   "metadata": {},
   "outputs": [],
   "source": [
    "# label encoding that is we can term ham as 1 and spam as 0 just like true and false\n",
    "mail_data.loc[mail_data['label'] == 'spam' , 'label',] = 0\n",
    "mail_data.loc[mail_data['label'] == 'ham' , 'label',] = 1\n",
    "\n",
    "# not spam = 1\n",
    "# spam = 0"
   ]
  },
  {
   "cell_type": "code",
   "execution_count": 14,
   "id": "bd5cb3ad",
   "metadata": {},
   "outputs": [],
   "source": [
    "# separating the data as text and labels\n",
    "# that is separating mails and the spam or ham column \n",
    "# 1 will be on each axis that is 0 or 1 will be on y axis and mails will be on x axis \n",
    "\n",
    "X = mail_data['text']\n",
    "\n",
    "Y = mail_data['label']"
   ]
  },
  {
   "cell_type": "code",
   "execution_count": 15,
   "id": "30156b4a",
   "metadata": {},
   "outputs": [],
   "source": [
    "# splitting our data into training and testing data \n",
    "# first we will train our logistic regression model\n",
    "# then we will test our data \n",
    "\n",
    "X_train , X_test , Y_train , Y_test = train_test_split(X,Y,test_size = 0.2,random_state = 3)\n",
    "\n",
    "#test_size = 0.2 means that we are taking 20% data for testing \n",
    "# so every time we run the code our data will get splitted same as previous one but if we set random_state = 2 then everytime our data will be splitted differently \n",
    "\n",
    "# feature extraction \n",
    "# transform the text data into feature vectors that can be used as input to our logistic regression model\n",
    "# so this vectorizer try to go through every word in your text and if suppose a word is repeated 1000 times then it will get a score or a value .\n",
    "# similarly it will scores or value and some will get higher score and some will get lower score and so on\n",
    "\n",
    "v = CountVectorizer()\n",
    "\n",
    "# min_df = 1 means if the score of word is less than one than we have to ignore it \n",
    "# stop words are those words which will be repeated many no. of times but do not have any meaning such as (and ,or, the etc)\n",
    "\n",
    "X_train_features = v.fit_transform(X_train.values)\n",
    "X_test_features = v.transform(X_test)    # here we will not fit the test data because we dont want our model to look at this data\n",
    "\n",
    "# and for Y_test , Y_train we will convert all the values ie 0 1 to integer datatype and so that they will not be considered as string\n",
    "\n",
    "Y_train = Y_train.astype('int')\n",
    "Y_test = Y_test.astype('int')"
   ]
  },
  {
   "cell_type": "code",
   "execution_count": 22,
   "id": "80373b1a",
   "metadata": {},
   "outputs": [
    {
     "data": {
      "text/plain": [
       "LinearSVC()"
      ]
     },
     "execution_count": 22,
     "metadata": {},
     "output_type": "execute_result"
    }
   ],
   "source": [
    "model = LinearSVC() \n",
    "model.fit(X_train_features , Y_train)\n"
   ]
  },
  {
   "cell_type": "code",
   "execution_count": 26,
   "id": "6d244467",
   "metadata": {},
   "outputs": [
    {
     "name": "stdout",
     "output_type": "stream",
     "text": [
      "accuracy on training data =  1.0\n"
     ]
    }
   ],
   "source": [
    "# evaluation\n",
    "# prediction on training data\n",
    "\n",
    "prediction_on_training_data = model.predict(X_train_features)\n",
    "\n",
    "accuracy_on_training_data = accuracy_score(Y_train ,prediction_on_training_data)\n",
    "print('accuracy on training data = ',accuracy_on_training_data)"
   ]
  },
  {
   "cell_type": "code",
   "execution_count": 27,
   "id": "d54a9002",
   "metadata": {},
   "outputs": [
    {
     "data": {
      "text/plain": [
       "0.966183574879227"
      ]
     },
     "execution_count": 27,
     "metadata": {},
     "output_type": "execute_result"
    }
   ],
   "source": [
    "# prediction on test data\n",
    "#so we are checking the accuracy on training and testing data to avoid overfitting of our model\n",
    "X_test_count = v.transform(X_test)\n",
    "model.score(X_test_count,Y_test)\n",
    "#prediction_on_test_data = model.predict(X_test_features)\n",
    "\n",
    "#accuracy_on_test_data = accuracy_score(Y_test ,prediction_on_test_data)"
   ]
  },
  {
   "cell_type": "code",
   "execution_count": 28,
   "id": "8d21458f",
   "metadata": {},
   "outputs": [
    {
     "name": "stdout",
     "output_type": "stream",
     "text": [
      "[0 1]\n",
      "\n",
      "\n",
      "spam mail\n",
      "not spam mail\n"
     ]
    }
   ],
   "source": [
    "# building a predictive system\n",
    "\n",
    "input_mail = [\"I'm gonna be home soon and i don't want to talk about this stuff anymore tonight, k? I've cried enough today.\",\"SIX chances to win CASH! From 100 to 20,000 pounds txt> CSH11 and send to 87575. Cost 150p/day, 6days, 16+ TsandCs apply Reply HL 4 info\"]\n",
    "\n",
    "# convert or transforming text to feature vector \n",
    "\n",
    "input_data_feature = v.transform(input_mail)\n",
    "\n",
    "#making predictions\n",
    "\n",
    "prediction = model.predict(input_data_feature)\n",
    "print(prediction)\n",
    "print('\\n')\n",
    "for i in range(0,len(input_mail)):\n",
    "    if prediction[i] == 1:\n",
    "        print('not spam mail')\n",
    "    else:\n",
    "        print('spam mail')"
   ]
  },
  {
   "cell_type": "code",
   "execution_count": null,
   "id": "6fc64057",
   "metadata": {},
   "outputs": [],
   "source": []
  }
 ],
 "metadata": {
  "kernelspec": {
   "display_name": "Python 3",
   "language": "python",
   "name": "python3"
  },
  "language_info": {
   "codemirror_mode": {
    "name": "ipython",
    "version": 3
   },
   "file_extension": ".py",
   "mimetype": "text/x-python",
   "name": "python",
   "nbconvert_exporter": "python",
   "pygments_lexer": "ipython3",
   "version": "3.8.8"
  }
 },
 "nbformat": 4,
 "nbformat_minor": 5
}
