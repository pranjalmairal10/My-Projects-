{
 "cells": [
  {
   "cell_type": "code",
   "execution_count": 76,
   "id": "1a7bb02d",
   "metadata": {},
   "outputs": [],
   "source": [
    "# importing the libraries \n",
    "\n",
    "import numpy as np\n",
    "import pandas as pd                                            #used to create dataframes which helps us to structure eour data more\n",
    "from sklearn.model_selection import train_test_split\n",
    "from sklearn.feature_extraction.text import TfidfVectorizer   # to convert text data into more meaningful data for machine or in more numerical way \n",
    "# so that our machine learning model can understand it using feature vectors\n",
    "from sklearn.linear_model import LogisticRegression            # using logistic regression model directly\n",
    "from sklearn.metrics import accuracy_score                     # evaluate our model , how much accurately our model is working\n"
   ]
  },
  {
   "cell_type": "code",
   "execution_count": 77,
   "id": "b6ab4323",
   "metadata": {},
   "outputs": [],
   "source": [
    "# data collection and pre processing\n",
    "\n",
    "# taking our dataset (raw mail data)\n",
    "\n",
    "raw_mails = pd.read_csv(\"C:\\\\Users\\\\HP\\\\Desktop\\\\nirma sem 5\\\\machine learning\\\\ML special\\\\spam_ham_dataset.csv\\\\spam_ham_dataset.csv\")\n"
   ]
  },
  {
   "cell_type": "code",
   "execution_count": 78,
   "id": "fc53bed0",
   "metadata": {},
   "outputs": [
    {
     "name": "stdout",
     "output_type": "stream",
     "text": [
      "      Unnamed: 0 label                                               text  \\\n",
      "0            605   ham  Subject: enron methanol ; meter # : 988291\\r\\n...   \n",
      "1           2349   ham  Subject: hpl nom for january 9 , 2001\\r\\n( see...   \n",
      "2           3624   ham  Subject: neon retreat\\r\\nho ho ho , we ' re ar...   \n",
      "3           4685  spam  Subject: photoshop , windows , office . cheap ...   \n",
      "4           2030   ham  Subject: re : indian springs\\r\\nthis deal is t...   \n",
      "...          ...   ...                                                ...   \n",
      "5166        1518   ham  Subject: put the 10 on the ft\\r\\nthe transport...   \n",
      "5167         404   ham  Subject: 3 / 4 / 2000 and following noms\\r\\nhp...   \n",
      "5168        2933   ham  Subject: calpine daily gas nomination\\r\\n>\\r\\n...   \n",
      "5169        1409   ham  Subject: industrial worksheets for august 2000...   \n",
      "5170        4807  spam  Subject: important online banking alert\\r\\ndea...   \n",
      "\n",
      "      label_num  \n",
      "0             0  \n",
      "1             0  \n",
      "2             0  \n",
      "3             1  \n",
      "4             0  \n",
      "...         ...  \n",
      "5166          0  \n",
      "5167          0  \n",
      "5168          0  \n",
      "5169          0  \n",
      "5170          1  \n",
      "\n",
      "[5171 rows x 4 columns]\n"
     ]
    }
   ],
   "source": [
    "print(raw_mails)"
   ]
  },
  {
   "cell_type": "code",
   "execution_count": 79,
   "id": "7e2c34a8",
   "metadata": {},
   "outputs": [],
   "source": [
    "# we have to replace null values or missing values with null strings\n",
    "mail_data = raw_mails.where((pd.notnull(raw_mails)),'') "
   ]
  },
  {
   "cell_type": "code",
   "execution_count": 80,
   "id": "b237460b",
   "metadata": {},
   "outputs": [
    {
     "data": {
      "text/html": [
       "<div>\n",
       "<style scoped>\n",
       "    .dataframe tbody tr th:only-of-type {\n",
       "        vertical-align: middle;\n",
       "    }\n",
       "\n",
       "    .dataframe tbody tr th {\n",
       "        vertical-align: top;\n",
       "    }\n",
       "\n",
       "    .dataframe thead th {\n",
       "        text-align: right;\n",
       "    }\n",
       "</style>\n",
       "<table border=\"1\" class=\"dataframe\">\n",
       "  <thead>\n",
       "    <tr style=\"text-align: right;\">\n",
       "      <th></th>\n",
       "      <th>Unnamed: 0</th>\n",
       "      <th>label</th>\n",
       "      <th>text</th>\n",
       "      <th>label_num</th>\n",
       "    </tr>\n",
       "  </thead>\n",
       "  <tbody>\n",
       "    <tr>\n",
       "      <th>0</th>\n",
       "      <td>605</td>\n",
       "      <td>ham</td>\n",
       "      <td>Subject: enron methanol ; meter # : 988291\\r\\n...</td>\n",
       "      <td>0</td>\n",
       "    </tr>\n",
       "    <tr>\n",
       "      <th>1</th>\n",
       "      <td>2349</td>\n",
       "      <td>ham</td>\n",
       "      <td>Subject: hpl nom for january 9 , 2001\\r\\n( see...</td>\n",
       "      <td>0</td>\n",
       "    </tr>\n",
       "    <tr>\n",
       "      <th>2</th>\n",
       "      <td>3624</td>\n",
       "      <td>ham</td>\n",
       "      <td>Subject: neon retreat\\r\\nho ho ho , we ' re ar...</td>\n",
       "      <td>0</td>\n",
       "    </tr>\n",
       "    <tr>\n",
       "      <th>3</th>\n",
       "      <td>4685</td>\n",
       "      <td>spam</td>\n",
       "      <td>Subject: photoshop , windows , office . cheap ...</td>\n",
       "      <td>1</td>\n",
       "    </tr>\n",
       "    <tr>\n",
       "      <th>4</th>\n",
       "      <td>2030</td>\n",
       "      <td>ham</td>\n",
       "      <td>Subject: re : indian springs\\r\\nthis deal is t...</td>\n",
       "      <td>0</td>\n",
       "    </tr>\n",
       "  </tbody>\n",
       "</table>\n",
       "</div>"
      ],
      "text/plain": [
       "   Unnamed: 0 label                                               text  \\\n",
       "0         605   ham  Subject: enron methanol ; meter # : 988291\\r\\n...   \n",
       "1        2349   ham  Subject: hpl nom for january 9 , 2001\\r\\n( see...   \n",
       "2        3624   ham  Subject: neon retreat\\r\\nho ho ho , we ' re ar...   \n",
       "3        4685  spam  Subject: photoshop , windows , office . cheap ...   \n",
       "4        2030   ham  Subject: re : indian springs\\r\\nthis deal is t...   \n",
       "\n",
       "   label_num  \n",
       "0          0  \n",
       "1          0  \n",
       "2          0  \n",
       "3          1  \n",
       "4          0  "
      ]
     },
     "execution_count": 80,
     "metadata": {},
     "output_type": "execute_result"
    }
   ],
   "source": [
    "# getting the first 5 rows of our dataset\n",
    "mail_data.head()"
   ]
  },
  {
   "cell_type": "code",
   "execution_count": 81,
   "id": "62e1d9b8",
   "metadata": {},
   "outputs": [
    {
     "data": {
      "text/plain": [
       "(5171, 4)"
      ]
     },
     "execution_count": 81,
     "metadata": {},
     "output_type": "execute_result"
    }
   ],
   "source": [
    "# checking number of rows and columns \n",
    "\n",
    "mail_data.shape"
   ]
  },
  {
   "cell_type": "code",
   "execution_count": 82,
   "id": "e0e563db",
   "metadata": {},
   "outputs": [],
   "source": [
    "# label encoding that is we can term ham as 1 and spam as 0 just like true and false\n",
    "mail_data.loc[mail_data['label'] == 'spam' , 'label',] = 0\n",
    "mail_data.loc[mail_data['label'] == 'ham' , 'label',] = 1\n",
    "\n",
    "# not spam = 1\n",
    "# spam = 0"
   ]
  },
  {
   "cell_type": "code",
   "execution_count": 83,
   "id": "dc956a61",
   "metadata": {},
   "outputs": [],
   "source": [
    "# separating the data as text and labels\n",
    "# that is separating mails and the spam or ham column \n",
    "# 1 will be on each axis that is 0 or 1 will be on y axis and mails will be on x axis \n",
    "\n",
    "X = mail_data['text']\n",
    "\n",
    "Y = mail_data['label']"
   ]
  },
  {
   "cell_type": "code",
   "execution_count": 84,
   "id": "28b6140f",
   "metadata": {},
   "outputs": [
    {
     "name": "stdout",
     "output_type": "stream",
     "text": [
      "0       Subject: enron methanol ; meter # : 988291\\r\\n...\n",
      "1       Subject: hpl nom for january 9 , 2001\\r\\n( see...\n",
      "2       Subject: neon retreat\\r\\nho ho ho , we ' re ar...\n",
      "3       Subject: photoshop , windows , office . cheap ...\n",
      "4       Subject: re : indian springs\\r\\nthis deal is t...\n",
      "                              ...                        \n",
      "5166    Subject: put the 10 on the ft\\r\\nthe transport...\n",
      "5167    Subject: 3 / 4 / 2000 and following noms\\r\\nhp...\n",
      "5168    Subject: calpine daily gas nomination\\r\\n>\\r\\n...\n",
      "5169    Subject: industrial worksheets for august 2000...\n",
      "5170    Subject: important online banking alert\\r\\ndea...\n",
      "Name: text, Length: 5171, dtype: object\n"
     ]
    }
   ],
   "source": [
    "print(X)"
   ]
  },
  {
   "cell_type": "code",
   "execution_count": 85,
   "id": "9699cea2",
   "metadata": {},
   "outputs": [
    {
     "name": "stdout",
     "output_type": "stream",
     "text": [
      "0       1\n",
      "1       1\n",
      "2       1\n",
      "3       0\n",
      "4       1\n",
      "       ..\n",
      "5166    1\n",
      "5167    1\n",
      "5168    1\n",
      "5169    1\n",
      "5170    0\n",
      "Name: label, Length: 5171, dtype: object\n"
     ]
    }
   ],
   "source": [
    "print(Y)"
   ]
  },
  {
   "cell_type": "code",
   "execution_count": 86,
   "id": "a7a7afa8",
   "metadata": {},
   "outputs": [],
   "source": [
    "# splitting our data into training and testing data \n",
    "# first we will train our logistic regression model\n",
    "# then we will test our data \n",
    "\n",
    "X_train , X_test , Y_train , Y_test = train_test_split(X,Y,test_size = 0.2,random_state = 3)\n",
    "\n",
    "#test_size = 0.2 means that we are taking 20% data for testing \n",
    "# so every time we run the code our data will get splitted same as previous one but if we set random_state = 2 then everytime our data will be splitted differently \n",
    "\n",
    "\n"
   ]
  },
  {
   "cell_type": "code",
   "execution_count": 87,
   "id": "893bd3e1",
   "metadata": {},
   "outputs": [
    {
     "name": "stdout",
     "output_type": "stream",
     "text": [
      "(4136,)\n",
      "(5171,)\n",
      "(1035,)\n",
      "2209    1\n",
      "2000    1\n",
      "5030    1\n",
      "1376    1\n",
      "1564    0\n",
      "       ..\n",
      "789     0\n",
      "968     0\n",
      "1667    1\n",
      "3321    1\n",
      "1688    0\n",
      "Name: label, Length: 4136, dtype: object\n"
     ]
    }
   ],
   "source": [
    "print(X_train.shape)\n",
    "print(X.shape)\n",
    "print(X_test.shape)\n",
    "print(Y_train)"
   ]
  },
  {
   "cell_type": "code",
   "execution_count": 88,
   "id": "280602a7",
   "metadata": {},
   "outputs": [],
   "source": [
    "# feature extraction \n",
    "# transform the text data into feature vectors that can be used as input to our logistic regression model\n",
    "# so this vectorizer try to go through every word in your text and if suppose a word is repeated 1000 times then it will get a score or a value .\n",
    "# similarly it will scores or value and some will get higher score and some will get lower score and so on\n",
    "\n",
    "v = CountVectorizer()\n",
    "\n",
    "# min_df = 1 means if the score of word is less than one than we have to ignore it \n",
    "# stop words are those words which will be repeated many no. of times but do not have any meaning such as (and ,or, the etc)\n",
    "\n",
    "X_train_features = v.fit_transform(X_train.values)\n",
    "X_test_features = v.transform(X_test)    # here we will not fit the test data because we dont want our model to look at this data\n",
    "\n",
    "# and for Y_test , Y_train we will convert all the values ie 0 1 to integer datatype and so that they will not be considered as string\n",
    "\n",
    "Y_train = Y_train.astype('int')\n",
    "Y_test = Y_test.astype('int')\n"
   ]
  },
  {
   "cell_type": "code",
   "execution_count": 89,
   "id": "c297d127",
   "metadata": {},
   "outputs": [
    {
     "name": "stdout",
     "output_type": "stream",
     "text": [
      "2209    Subject: hplc to wellhead\\r\\ndaren here is the...\n",
      "2000    Subject: mobil chemical - hpl meter # 1256 - e...\n",
      "5030    Subject: revised nom 5 / 5 - eastrans ; revise...\n",
      "1376    Subject: re : exxon company , usa global # 960...\n",
      "1564    Subject: your pharmacy nx\\r\\nwant a cheap pain...\n",
      "                              ...                        \n",
      "789     Subject: incr ' ease yo ' ur man ' hood by 4 -...\n",
      "968     Subject: subscribers receive first notice on r...\n",
      "1667    Subject: neon for march 28\\r\\nhere is the neon...\n",
      "3321    Subject: re : first delivery - pure resources ...\n",
      "1688    Subject: enhance your chest size\\r\\nemail is l...\n",
      "Name: text, Length: 4136, dtype: object\n"
     ]
    }
   ],
   "source": [
    "print(X_train)"
   ]
  },
  {
   "cell_type": "code",
   "execution_count": 90,
   "id": "76ab4c1a",
   "metadata": {},
   "outputs": [
    {
     "name": "stdout",
     "output_type": "stream",
     "text": [
      "  (0, 39169)\t1\n",
      "  (0, 22006)\t2\n",
      "  (0, 40786)\t3\n",
      "  (0, 43553)\t2\n",
      "  (0, 13717)\t1\n",
      "  (0, 21372)\t1\n",
      "  (0, 23677)\t1\n",
      "  (0, 40335)\t3\n",
      "  (0, 26181)\t1\n",
      "  (0, 30299)\t2\n",
      "  (0, 13922)\t1\n",
      "  (0, 40328)\t1\n",
      "  (0, 29327)\t1\n",
      "  (0, 28746)\t1\n",
      "  (0, 32734)\t1\n",
      "  (0, 19139)\t1\n",
      "  (0, 5751)\t1\n",
      "  (0, 6288)\t1\n",
      "  (0, 22769)\t1\n",
      "  (0, 42434)\t1\n",
      "  (0, 38525)\t1\n",
      "  (0, 37326)\t1\n",
      "  (0, 38195)\t1\n",
      "  (0, 40399)\t1\n",
      "  (0, 27402)\t1\n",
      "  :\t:\n",
      "  (4135, 18958)\t1\n",
      "  (4135, 41303)\t1\n",
      "  (4135, 39855)\t1\n",
      "  (4135, 14505)\t1\n",
      "  (4135, 42448)\t1\n",
      "  (4135, 15625)\t1\n",
      "  (4135, 38773)\t1\n",
      "  (4135, 28189)\t1\n",
      "  (4135, 43204)\t1\n",
      "  (4135, 43465)\t1\n",
      "  (4135, 19776)\t1\n",
      "  (4135, 35592)\t1\n",
      "  (4135, 4952)\t1\n",
      "  (4135, 8478)\t1\n",
      "  (4135, 23046)\t1\n",
      "  (4135, 14532)\t1\n",
      "  (4135, 28026)\t1\n",
      "  (4135, 40656)\t1\n",
      "  (4135, 25773)\t1\n",
      "  (4135, 32738)\t1\n",
      "  (4135, 34248)\t1\n",
      "  (4135, 7292)\t1\n",
      "  (4135, 35332)\t1\n",
      "  (4135, 39520)\t1\n",
      "  (4135, 5534)\t1\n"
     ]
    }
   ],
   "source": [
    "print(X_train_features)"
   ]
  },
  {
   "cell_type": "code",
   "execution_count": 91,
   "id": "a9c432e5",
   "metadata": {},
   "outputs": [],
   "source": [
    "# calling the logistic regression function \n",
    "model = LogisticRegression()"
   ]
  },
  {
   "cell_type": "code",
   "execution_count": 92,
   "id": "77b881b4",
   "metadata": {},
   "outputs": [
    {
     "name": "stderr",
     "output_type": "stream",
     "text": [
      "C:\\Users\\HP\\anaconda3\\lib\\site-packages\\sklearn\\linear_model\\_logistic.py:763: ConvergenceWarning: lbfgs failed to converge (status=1):\n",
      "STOP: TOTAL NO. of ITERATIONS REACHED LIMIT.\n",
      "\n",
      "Increase the number of iterations (max_iter) or scale the data as shown in:\n",
      "    https://scikit-learn.org/stable/modules/preprocessing.html\n",
      "Please also refer to the documentation for alternative solver options:\n",
      "    https://scikit-learn.org/stable/modules/linear_model.html#logistic-regression\n",
      "  n_iter_i = _check_optimize_result(\n"
     ]
    },
    {
     "data": {
      "text/plain": [
       "LogisticRegression()"
      ]
     },
     "execution_count": 92,
     "metadata": {},
     "output_type": "execute_result"
    }
   ],
   "source": [
    "# feeding the training data to our logistic regression model\n",
    "\n",
    "model.fit(X_train_features , Y_train)"
   ]
  },
  {
   "cell_type": "code",
   "execution_count": 93,
   "id": "0cc4c197",
   "metadata": {},
   "outputs": [],
   "source": [
    "# evaluation\n",
    "# prediction on training data\n",
    "\n",
    "prediction_on_training_data = model.predict(X_train_features)\n",
    "\n",
    "accuracy_on_training_data = accuracy_score(Y_train ,prediction_on_training_data)"
   ]
  },
  {
   "cell_type": "code",
   "execution_count": 99,
   "id": "2890927b",
   "metadata": {},
   "outputs": [
    {
     "name": "stdout",
     "output_type": "stream",
     "text": [
      "accuracy on training data =  0.9995164410058027\n"
     ]
    }
   ],
   "source": [
    "print('accuracy on training data = ',accuracy_on_training_data)"
   ]
  },
  {
   "cell_type": "code",
   "execution_count": 100,
   "id": "02c6f17c",
   "metadata": {},
   "outputs": [],
   "source": [
    "# prediction on test data\n",
    "#so we are checking the accuracy on training and testing data to avoid overfitting of our model\n",
    "prediction_on_test_data = model.predict(X_test_features)\n",
    "\n",
    "accuracy_on_test_data = accuracy_score(Y_test ,prediction_on_test_data)"
   ]
  },
  {
   "cell_type": "code",
   "execution_count": 101,
   "id": "1918a630",
   "metadata": {},
   "outputs": [
    {
     "name": "stdout",
     "output_type": "stream",
     "text": [
      "accuracy on testing data =  0.9729468599033816\n"
     ]
    }
   ],
   "source": [
    "print('accuracy on testing data = ',accuracy_on_test_data)"
   ]
  },
  {
   "cell_type": "code",
   "execution_count": 102,
   "id": "3a87f23c",
   "metadata": {},
   "outputs": [
    {
     "name": "stdout",
     "output_type": "stream",
     "text": [
      "[0 0]\n",
      "\n",
      "\n",
      "spam mail\n",
      "spam mail\n"
     ]
    }
   ],
   "source": [
    "# building a predictive system\n",
    "\n",
    "input_mail = [\"I'm gonna be home soon and i don't want to talk about this stuff anymore tonight, k? I've cried enough today.\",\"SIX chances to win CASH! From 100 to 20,000 pounds txt> CSH11 and send to 87575. Cost 150p/day, 6days, 16+ TsandCs apply Reply HL 4 info\"]\n",
    "\n",
    "# convert or transforming text to feature vector \n",
    "\n",
    "input_data_feature = v.transform(input_mail)\n",
    "\n",
    "#making predictions\n",
    "\n",
    "prediction = model.predict(input_data_feature)\n",
    "print(prediction)\n",
    "print('\\n')\n",
    "for i in range(0,len(input_mail)):\n",
    "    if prediction[i] == 1:\n",
    "        print('not spam mail')\n",
    "    else:\n",
    "        print('spam mail')"
   ]
  },
  {
   "cell_type": "code",
   "execution_count": 23,
   "id": "fdd4d77c",
   "metadata": {},
   "outputs": [
    {
     "name": "stdout",
     "output_type": "stream",
     "text": [
      "      Unnamed: 0 label                                               text  \\\n",
      "0            605   ham  Subject: enron methanol ; meter # : 988291\\r\\n...   \n",
      "1           2349   ham  Subject: hpl nom for january 9 , 2001\\r\\n( see...   \n",
      "2           3624   ham  Subject: neon retreat\\r\\nho ho ho , we ' re ar...   \n",
      "3           4685  spam  Subject: photoshop , windows , office . cheap ...   \n",
      "4           2030   ham  Subject: re : indian springs\\r\\nthis deal is t...   \n",
      "...          ...   ...                                                ...   \n",
      "5166        1518   ham  Subject: put the 10 on the ft\\r\\nthe transport...   \n",
      "5167         404   ham  Subject: 3 / 4 / 2000 and following noms\\r\\nhp...   \n",
      "5168        2933   ham  Subject: calpine daily gas nomination\\r\\n>\\r\\n...   \n",
      "5169        1409   ham  Subject: industrial worksheets for august 2000...   \n",
      "5170        4807  spam  Subject: important online banking alert\\r\\ndea...   \n",
      "\n",
      "      label_num  \n",
      "0             0  \n",
      "1             0  \n",
      "2             0  \n",
      "3             1  \n",
      "4             0  \n",
      "...         ...  \n",
      "5166          0  \n",
      "5167          0  \n",
      "5168          0  \n",
      "5169          0  \n",
      "5170          1  \n",
      "\n",
      "[5171 rows x 4 columns]\n",
      "0       Subject: enron methanol ; meter # : 988291\\r\\n...\n",
      "1       Subject: hpl nom for january 9 , 2001\\r\\n( see...\n",
      "2       Subject: neon retreat\\r\\nho ho ho , we ' re ar...\n",
      "3       Subject: photoshop , windows , office . cheap ...\n",
      "4       Subject: re : indian springs\\r\\nthis deal is t...\n",
      "                              ...                        \n",
      "5166    Subject: put the 10 on the ft\\r\\nthe transport...\n",
      "5167    Subject: 3 / 4 / 2000 and following noms\\r\\nhp...\n",
      "5168    Subject: calpine daily gas nomination\\r\\n>\\r\\n...\n",
      "5169    Subject: industrial worksheets for august 2000...\n",
      "5170    Subject: important online banking alert\\r\\ndea...\n",
      "Name: text, Length: 5171, dtype: object\n",
      "0       1\n",
      "1       1\n",
      "2       1\n",
      "3       0\n",
      "4       1\n",
      "       ..\n",
      "5166    1\n",
      "5167    1\n",
      "5168    1\n",
      "5169    1\n",
      "5170    0\n",
      "Name: label, Length: 5171, dtype: object\n",
      "2209    Subject: hplc to wellhead\\r\\ndaren here is the...\n",
      "2000    Subject: mobil chemical - hpl meter # 1256 - e...\n",
      "5030    Subject: revised nom 5 / 5 - eastrans ; revise...\n",
      "1376    Subject: re : exxon company , usa global # 960...\n",
      "1564    Subject: your pharmacy nx\\r\\nwant a cheap pain...\n",
      "                              ...                        \n",
      "789     Subject: incr ' ease yo ' ur man ' hood by 4 -...\n",
      "968     Subject: subscribers receive first notice on r...\n",
      "1667    Subject: neon for march 28\\r\\nhere is the neon...\n",
      "3321    Subject: re : first delivery - pure resources ...\n",
      "1688    Subject: enhance your chest size\\r\\nemail is l...\n",
      "Name: text, Length: 4136, dtype: object\n",
      "  (0, 3871)\t0.13387711316973605\n",
      "  (0, 531)\t0.14556222812251965\n",
      "  (0, 30451)\t0.08468916670398006\n",
      "  (0, 43273)\t0.14556222812251965\n",
      "  (0, 3890)\t0.14556222812251965\n",
      "  (0, 548)\t0.14556222812251965\n",
      "  (0, 37262)\t0.11275796314501375\n",
      "  (0, 2908)\t0.11535664415295803\n",
      "  (0, 456)\t0.14556222812251965\n",
      "  (0, 26297)\t0.09506000151609588\n",
      "  (0, 36190)\t0.11400727959297849\n",
      "  (0, 2478)\t0.13872687405852518\n",
      "  (0, 521)\t0.14556222812251965\n",
      "  (0, 16808)\t0.11843023142166303\n",
      "  (0, 22041)\t0.13387711316973605\n",
      "  (0, 2706)\t0.14556222812251965\n",
      "  (0, 522)\t0.14556222812251965\n",
      "  (0, 32060)\t0.07311834410351342\n",
      "  (0, 19411)\t0.04211028825505044\n",
      "  (0, 2537)\t0.13872687405852518\n",
      "  (0, 517)\t0.14556222812251965\n",
      "  (0, 19429)\t0.14556222812251965\n",
      "  (0, 16637)\t0.24438399643390496\n",
      "  (0, 3875)\t0.14556222812251965\n",
      "  (0, 836)\t0.14556222812251965\n",
      "  :\t:\n",
      "  (4135, 8873)\t0.07154271542163933\n",
      "  (4135, 16161)\t0.07327358549803296\n",
      "  (4135, 26936)\t0.07154271542163933\n",
      "  (4135, 15691)\t0.07812310961344454\n",
      "  (4135, 14167)\t0.07812310961344454\n",
      "  (4135, 11832)\t0.07539199926380867\n",
      "  (4135, 4961)\t0.07539199926380867\n",
      "  (4135, 7395)\t0.07154271542163933\n",
      "  (4135, 10238)\t0.06669319130622776\n",
      "  (4135, 29033)\t0.057994383348646844\n",
      "  (4135, 22458)\t0.05353240292261735\n",
      "  (4135, 14390)\t0.05726375354549545\n",
      "  (4135, 16537)\t0.07154271542163933\n",
      "  (4135, 42960)\t0.06496232122983413\n",
      "  (4135, 16217)\t0.06769343157946998\n",
      "  (4135, 26408)\t0.046488819206390516\n",
      "  (4135, 14282)\t0.06669319130622776\n",
      "  (4135, 27714)\t0.031300464660012135\n",
      "  (4135, 16475)\t0.03146157037949769\n",
      "  (4135, 38725)\t0.04124090788006661\n",
      "  (4135, 43426)\t0.05920796972538574\n",
      "  (4135, 20748)\t0.05068335935369024\n",
      "  (4135, 14513)\t0.056585357723181545\n",
      "  (4135, 36190)\t0.06420243561903816\n",
      "  (4135, 38946)\t0.009493502067611905\n",
      "accuracy on training data =  0.9970986460348162\n",
      "accuracy on testing data =  0.9806763285024155\n",
      "[0 0]\n",
      "\n",
      "\n",
      "spam mail\n",
      "spam mail\n"
     ]
    }
   ],
   "source": [
    "# importing the libraries \n",
    "\n",
    "import numpy as np\n",
    "import pandas as pd                                            #used to create dataframes which helps us to structure eour data more\n",
    "from sklearn.model_selection import train_test_split\n",
    "from sklearn.feature_extraction.text import TfidfVectorizer   # to convert text data into more meaningful data for machine or in more numerical way \n",
    "# so that our machine learning model can understand it using feature vectors\n",
    "from sklearn.linear_model import LogisticRegression            # using logistic regression model directly\n",
    "from sklearn.metrics import accuracy_score                     # this is used to find the accuracy of our model to avoid overfitting\n",
    "\n",
    "# data collection and pre processing\n",
    "\n",
    "# taking our dataset (raw mail data)\n",
    "\n",
    "raw_mails = pd.read_csv(\"C:\\\\Users\\\\HP\\\\Desktop\\\\nirma sem 5\\\\machine learning\\\\ML special\\\\spam_ham_dataset.csv\\\\spam_ham_dataset.csv\")\n",
    "\n",
    "print(raw_mails)\n",
    "\n",
    "# we have to replace null values or missing values with null strings\n",
    "mail_data = raw_mails.where((pd.notnull(raw_mails)),'') \n",
    "\n",
    "# getting the first 5 rows of our dataset\n",
    "mail_data.head()\n",
    "\n",
    "# checking number of rows and columns \n",
    "\n",
    "mail_data.shape\n",
    "\n",
    "# label encoding that is we can term ham as 1 and spam as 0 just like true and false\n",
    "mail_data.loc[mail_data['label'] == 'spam' , 'label',] = 0\n",
    "mail_data.loc[mail_data['label'] == 'ham' , 'label',] = 1\n",
    "\n",
    "# not spam = 1\n",
    "# spam = 0\n",
    "#--------------------------------------------------------------------------------------------------------\n",
    "# separating the data as text and labels\n",
    "# that is separating mails and the spam or ham column \n",
    "# 1 will be on each axis that is 0 or 1 will be on y axis and mails will be on x axis \n",
    "\n",
    "X = mail_data['text']\n",
    "\n",
    "Y = mail_data['label']\n",
    "\n",
    "print(X)\n",
    "\n",
    "print(Y)\n",
    "#---------------------------------------------------------------------------------------------------------\n",
    "# splitting our data into training and testing data \n",
    "# first we will train our logistic regression model\n",
    "# then we will test our data \n",
    "\n",
    "X_train , X_test , Y_train , Y_test = train_test_split(X,Y,test_size = 0.2,random_state = 3)\n",
    "\n",
    "#test_size = 0.2 means that we are taking 20% data for testing \n",
    "# so every time we run the code our data will get splitted same as previous one but if we set random_state = 2 then everytime our data will be splitted differently \n",
    "\n",
    "#----------------------------------------------------------------------------------------------------------\n",
    "\n",
    "# feature extraction \n",
    "# transform the text data into feature vectors that can be used as input to our logistic regression model\n",
    "# so this vectorizer try to go through every word in your text and if suppose a word is repeated 1000 times then it will get a score or a value .\n",
    "# similarly it will scores or value and some will get higher score and some will get lower score and so on\n",
    "\n",
    "feature_extraction = TfidfVectorizer(min_df = 1,stop_words = 'english' , lowercase = 'true')\n",
    "\n",
    "# min_df = 1 means if the score of word is less than one than we have to ignore it \n",
    "# stop words are those words which will be repeated many no. of times but do not have any meaning such as (and ,or, the etc)\n",
    "\n",
    "X_train_features = feature_extraction.fit_transform(X_train)\n",
    "X_test_features = feature_extraction.transform(X_test)    # here we will not fit the test data because we dont want our model to look at this data\n",
    "\n",
    "# and for Y_test , Y_train we will convert all the values ie 0 1 to integer datatype and so that they will not be considered as string\n",
    "\n",
    "Y_train = Y_train.astype('int')\n",
    "Y_test = Y_test.astype('int')\n",
    "\n",
    "print(X_train)\n",
    "\n",
    "print(X_train_features)\n",
    "#----------------------------------------------------------------------------------------------------------\n",
    "# calling the logistic regression function \n",
    "model = LogisticRegression()\n",
    "\n",
    "# feeding the training data to our logistic regression model\n",
    "\n",
    "model.fit(X_train_features , Y_train)\n",
    "\n",
    "# evaluation\n",
    "# prediction on training data\n",
    "\n",
    "prediction_on_training_data = model.predict(X_train_features)\n",
    "\n",
    "accuracy_on_training_data = accuracy_score(Y_train ,prediction_on_training_data)\n",
    "\n",
    "print('accuracy on training data = ',accuracy_on_training_data)\n",
    "\n",
    "#-----------------------------------------------------------------------------------------------------------\n",
    "\n",
    "# prediction on test data\n",
    "#so we are checking the accuracy on training and testing data to avoid overfitting of our model\n",
    "prediction_on_test_data = model.predict(X_test_features)\n",
    "\n",
    "accuracy_on_test_data = accuracy_score(Y_test ,prediction_on_test_data)\n",
    "\n",
    "print('accuracy on testing data = ',accuracy_on_test_data)\n",
    "\n",
    "\n",
    "#------------------------------------------------------------------------------------------------------------\n",
    "\n",
    "# building a predictive system\n",
    "\n",
    "input_mail = [\"I'm gonna be home soon and i don't want to talk about this stuff anymore tonight, k? I've cried enough today.\",\"SIX chances to win CASH! From 100 to 20,000 pounds txt> CSH11 and send to 87575. Cost 150p/day, 6days, 16+ TsandCs apply Reply HL 4 info\"]\n",
    "\n",
    "# convert or transforming text to feature vector \n",
    "\n",
    "input_data_feature = feature_extraction.transform(input_mail)\n",
    "\n",
    "#making predictions\n",
    "\n",
    "prediction = model.predict(input_data_feature)\n",
    "print(prediction)\n",
    "print('\\n')\n",
    "for i in range(0,len(input_mail)):\n",
    "    if prediction[i] == 1:\n",
    "        print('not spam mail')\n",
    "    else:\n",
    "        print('spam mail')"
   ]
  },
  {
   "cell_type": "code",
   "execution_count": 45,
   "id": "91887602",
   "metadata": {},
   "outputs": [],
   "source": [
    "import numpy as np\n",
    "import pandas as pd                                            #used to create dataframes which helps us to structure eour data more\n",
    "from sklearn.model_selection import train_test_split\n",
    "from sklearn.feature_extraction.text import TfidfVectorizer   # to convert text data into more meaningful data for machine or in more numerical way \n",
    "# so that our machine learning model can understand it using feature vectors\n",
    "from sklearn.feature_extraction.text import CountVectorizer\n",
    "from sklearn.naive_bayes import MultinomialNB \n",
    "from sklearn.pipeline import Pipeline \n",
    "import matplotlib.pyplot as plt\n",
    "from wordcloud import WordCloud\n",
    "import pickle\n",
    "from sklearn.metrics import accuracy_score"
   ]
  },
  {
   "cell_type": "code",
   "execution_count": 46,
   "id": "b7422522",
   "metadata": {},
   "outputs": [
    {
     "name": "stdout",
     "output_type": "stream",
     "text": [
      "      Unnamed: 0 label                                               text  \\\n",
      "0            605   ham  Subject: enron methanol ; meter # : 988291\\r\\n...   \n",
      "1           2349   ham  Subject: hpl nom for january 9 , 2001\\r\\n( see...   \n",
      "2           3624   ham  Subject: neon retreat\\r\\nho ho ho , we ' re ar...   \n",
      "3           4685  spam  Subject: photoshop , windows , office . cheap ...   \n",
      "4           2030   ham  Subject: re : indian springs\\r\\nthis deal is t...   \n",
      "...          ...   ...                                                ...   \n",
      "5166        1518   ham  Subject: put the 10 on the ft\\r\\nthe transport...   \n",
      "5167         404   ham  Subject: 3 / 4 / 2000 and following noms\\r\\nhp...   \n",
      "5168        2933   ham  Subject: calpine daily gas nomination\\r\\n>\\r\\n...   \n",
      "5169        1409   ham  Subject: industrial worksheets for august 2000...   \n",
      "5170        4807  spam  Subject: important online banking alert\\r\\ndea...   \n",
      "\n",
      "      label_num  \n",
      "0             0  \n",
      "1             0  \n",
      "2             0  \n",
      "3             1  \n",
      "4             0  \n",
      "...         ...  \n",
      "5166          0  \n",
      "5167          0  \n",
      "5168          0  \n",
      "5169          0  \n",
      "5170          1  \n",
      "\n",
      "[5171 rows x 4 columns]\n"
     ]
    }
   ],
   "source": [
    "raw_mails = pd.read_csv(\"C:\\\\Users\\\\HP\\\\Desktop\\\\nirma sem 5\\\\machine learning\\\\ML special\\\\spam_ham_dataset.csv\\\\spam_ham_dataset.csv\")\n",
    "print(raw_mails)"
   ]
  },
  {
   "cell_type": "code",
   "execution_count": 47,
   "id": "a4e9f4cb",
   "metadata": {},
   "outputs": [
    {
     "data": {
      "text/html": [
       "<div>\n",
       "<style scoped>\n",
       "    .dataframe tbody tr th:only-of-type {\n",
       "        vertical-align: middle;\n",
       "    }\n",
       "\n",
       "    .dataframe tbody tr th {\n",
       "        vertical-align: top;\n",
       "    }\n",
       "\n",
       "    .dataframe thead th {\n",
       "        text-align: right;\n",
       "    }\n",
       "</style>\n",
       "<table border=\"1\" class=\"dataframe\">\n",
       "  <thead>\n",
       "    <tr style=\"text-align: right;\">\n",
       "      <th></th>\n",
       "      <th>Unnamed: 0</th>\n",
       "      <th>label</th>\n",
       "      <th>text</th>\n",
       "      <th>label_num</th>\n",
       "    </tr>\n",
       "  </thead>\n",
       "  <tbody>\n",
       "    <tr>\n",
       "      <th>0</th>\n",
       "      <td>605</td>\n",
       "      <td>ham</td>\n",
       "      <td>Subject: enron methanol ; meter # : 988291\\r\\n...</td>\n",
       "      <td>0</td>\n",
       "    </tr>\n",
       "    <tr>\n",
       "      <th>1</th>\n",
       "      <td>2349</td>\n",
       "      <td>ham</td>\n",
       "      <td>Subject: hpl nom for january 9 , 2001\\r\\n( see...</td>\n",
       "      <td>0</td>\n",
       "    </tr>\n",
       "    <tr>\n",
       "      <th>2</th>\n",
       "      <td>3624</td>\n",
       "      <td>ham</td>\n",
       "      <td>Subject: neon retreat\\r\\nho ho ho , we ' re ar...</td>\n",
       "      <td>0</td>\n",
       "    </tr>\n",
       "    <tr>\n",
       "      <th>3</th>\n",
       "      <td>4685</td>\n",
       "      <td>spam</td>\n",
       "      <td>Subject: photoshop , windows , office . cheap ...</td>\n",
       "      <td>1</td>\n",
       "    </tr>\n",
       "    <tr>\n",
       "      <th>4</th>\n",
       "      <td>2030</td>\n",
       "      <td>ham</td>\n",
       "      <td>Subject: re : indian springs\\r\\nthis deal is t...</td>\n",
       "      <td>0</td>\n",
       "    </tr>\n",
       "  </tbody>\n",
       "</table>\n",
       "</div>"
      ],
      "text/plain": [
       "   Unnamed: 0 label                                               text  \\\n",
       "0         605   ham  Subject: enron methanol ; meter # : 988291\\r\\n...   \n",
       "1        2349   ham  Subject: hpl nom for january 9 , 2001\\r\\n( see...   \n",
       "2        3624   ham  Subject: neon retreat\\r\\nho ho ho , we ' re ar...   \n",
       "3        4685  spam  Subject: photoshop , windows , office . cheap ...   \n",
       "4        2030   ham  Subject: re : indian springs\\r\\nthis deal is t...   \n",
       "\n",
       "   label_num  \n",
       "0          0  \n",
       "1          0  \n",
       "2          0  \n",
       "3          1  \n",
       "4          0  "
      ]
     },
     "execution_count": 47,
     "metadata": {},
     "output_type": "execute_result"
    }
   ],
   "source": [
    "# we have to replace null values or missing values with null strings\n",
    "mail_data = raw_mails.where((pd.notnull(raw_mails)),'')\n",
    "\n",
    "# getting the first 5 rows of our dataset\n",
    "mail_data.head()"
   ]
  },
  {
   "cell_type": "code",
   "execution_count": 48,
   "id": "45ce62ba",
   "metadata": {},
   "outputs": [
    {
     "data": {
      "text/plain": [
       "(5171, 4)"
      ]
     },
     "execution_count": 48,
     "metadata": {},
     "output_type": "execute_result"
    }
   ],
   "source": [
    "# checking number of rows and columns \n",
    "\n",
    "mail_data.shape"
   ]
  },
  {
   "cell_type": "code",
   "execution_count": 49,
   "id": "65b045d8",
   "metadata": {},
   "outputs": [],
   "source": [
    "# label encoding that is we can term ham as 1 and spam as 0 just like true and false\n",
    "mail_data.loc[mail_data['label'] == 'spam' , 'label',] = 0\n",
    "mail_data.loc[mail_data['label'] == 'ham' , 'label',] = 1\n",
    "\n",
    "# not spam = 1\n",
    "# spam = 0"
   ]
  },
  {
   "cell_type": "code",
   "execution_count": 50,
   "id": "5b284dee",
   "metadata": {},
   "outputs": [],
   "source": [
    "# separating the data as text and labels\n",
    "# that is separating mails and the spam or ham column \n",
    "# 1 will be on each axis that is 0 or 1 will be on y axis and mails will be on x axis \n",
    "\n",
    "X = mail_data['text']\n",
    "\n",
    "Y = mail_data['label']"
   ]
  },
  {
   "cell_type": "code",
   "execution_count": 51,
   "id": "c5e78c42",
   "metadata": {},
   "outputs": [
    {
     "name": "stdout",
     "output_type": "stream",
     "text": [
      "0       Subject: enron methanol ; meter # : 988291\\r\\n...\n",
      "1       Subject: hpl nom for january 9 , 2001\\r\\n( see...\n",
      "2       Subject: neon retreat\\r\\nho ho ho , we ' re ar...\n",
      "3       Subject: photoshop , windows , office . cheap ...\n",
      "4       Subject: re : indian springs\\r\\nthis deal is t...\n",
      "                              ...                        \n",
      "5166    Subject: put the 10 on the ft\\r\\nthe transport...\n",
      "5167    Subject: 3 / 4 / 2000 and following noms\\r\\nhp...\n",
      "5168    Subject: calpine daily gas nomination\\r\\n>\\r\\n...\n",
      "5169    Subject: industrial worksheets for august 2000...\n",
      "5170    Subject: important online banking alert\\r\\ndea...\n",
      "Name: text, Length: 5171, dtype: object\n"
     ]
    }
   ],
   "source": [
    "print(X)\n"
   ]
  },
  {
   "cell_type": "code",
   "execution_count": 52,
   "id": "e0ae344c",
   "metadata": {},
   "outputs": [
    {
     "name": "stdout",
     "output_type": "stream",
     "text": [
      "0       1\n",
      "1       1\n",
      "2       1\n",
      "3       0\n",
      "4       1\n",
      "       ..\n",
      "5166    1\n",
      "5167    1\n",
      "5168    1\n",
      "5169    1\n",
      "5170    0\n",
      "Name: label, Length: 5171, dtype: object\n"
     ]
    }
   ],
   "source": [
    "print(Y)"
   ]
  },
  {
   "cell_type": "code",
   "execution_count": 53,
   "id": "dc749ca5",
   "metadata": {},
   "outputs": [],
   "source": [
    "# splitting our data into training and testing data \n",
    "# first we will train our logistic regression model\n",
    "# then we will test our data \n",
    "\n",
    "X_train , X_test , Y_train , Y_test = train_test_split(X,Y,test_size = 0.2,random_state = 3)\n",
    "\n",
    "#test_size = 0.2 means that we are taking 20% data for testing \n",
    "# so every time we run the code our data will get splitted same as previous one but if we set random_state = 2 then everytime our data will be splitted differently \n"
   ]
  },
  {
   "cell_type": "code",
   "execution_count": 54,
   "id": "3ddde4fe",
   "metadata": {},
   "outputs": [
    {
     "name": "stdout",
     "output_type": "stream",
     "text": [
      "(4136,)\n",
      "(5171,)\n",
      "(1035,)\n",
      "2209    1\n",
      "2000    1\n",
      "5030    1\n",
      "1376    1\n",
      "1564    0\n",
      "       ..\n",
      "789     0\n",
      "968     0\n",
      "1667    1\n",
      "3321    1\n",
      "1688    0\n",
      "Name: label, Length: 4136, dtype: object\n"
     ]
    }
   ],
   "source": [
    "print(X_train.shape)\n",
    "print(X.shape)\n",
    "print(X_test.shape)\n",
    "print(Y_train)"
   ]
  },
  {
   "cell_type": "code",
   "execution_count": 64,
   "id": "153a18be",
   "metadata": {},
   "outputs": [],
   "source": [
    "# feature extraction \n",
    "# transform the text data into feature vectors that can be used as input to our logistic regression model\n",
    "# so this vectorizer try to go through every word in your text and if suppose a word is repeated 1000 times then it will get a score or a value .\n",
    "# similarly it will scores or value and some will get higher score and some will get lower score and so on\n",
    "\n",
    "v = CountVectorizer()\n",
    "\n",
    "# min_df = 1 means if the score of word is less than one than we have to ignore it \n",
    "# stop words are those words which will be repeated many no. of times but do not have any meaning such as (and ,or, the etc)\n",
    "\n",
    "X_train_features = v.fit_transform(X_train.values)\n",
    "X_test_features = v.transform(X_test)    # here we will not fit the test data because we dont want our model to look at this data\n",
    "\n",
    "# and for Y_test , Y_train we will convert all the values ie 0 1 to integer datatype and so that they will not be considered as string\n",
    "\n",
    "Y_train = Y_train.astype('int')\n",
    "Y_test = Y_test.astype('int')\n"
   ]
  },
  {
   "cell_type": "code",
   "execution_count": 65,
   "id": "2fa314d8",
   "metadata": {},
   "outputs": [
    {
     "name": "stdout",
     "output_type": "stream",
     "text": [
      "2209    Subject: hplc to wellhead\\r\\ndaren here is the...\n",
      "2000    Subject: mobil chemical - hpl meter # 1256 - e...\n",
      "5030    Subject: revised nom 5 / 5 - eastrans ; revise...\n",
      "1376    Subject: re : exxon company , usa global # 960...\n",
      "1564    Subject: your pharmacy nx\\r\\nwant a cheap pain...\n",
      "                              ...                        \n",
      "789     Subject: incr ' ease yo ' ur man ' hood by 4 -...\n",
      "968     Subject: subscribers receive first notice on r...\n",
      "1667    Subject: neon for march 28\\r\\nhere is the neon...\n",
      "3321    Subject: re : first delivery - pure resources ...\n",
      "1688    Subject: enhance your chest size\\r\\nemail is l...\n",
      "Name: text, Length: 4136, dtype: object\n",
      "  (0, 39169)\t1\n",
      "  (0, 22006)\t2\n",
      "  (0, 40786)\t3\n",
      "  (0, 43553)\t2\n",
      "  (0, 13717)\t1\n",
      "  (0, 21372)\t1\n",
      "  (0, 23677)\t1\n",
      "  (0, 40335)\t3\n",
      "  (0, 26181)\t1\n",
      "  (0, 30299)\t2\n",
      "  (0, 13922)\t1\n",
      "  (0, 40328)\t1\n",
      "  (0, 29327)\t1\n",
      "  (0, 28746)\t1\n",
      "  (0, 32734)\t1\n",
      "  (0, 19139)\t1\n",
      "  (0, 5751)\t1\n",
      "  (0, 6288)\t1\n",
      "  (0, 22769)\t1\n",
      "  (0, 42434)\t1\n",
      "  (0, 38525)\t1\n",
      "  (0, 37326)\t1\n",
      "  (0, 38195)\t1\n",
      "  (0, 40399)\t1\n",
      "  (0, 27402)\t1\n",
      "  :\t:\n",
      "  (4135, 18958)\t1\n",
      "  (4135, 41303)\t1\n",
      "  (4135, 39855)\t1\n",
      "  (4135, 14505)\t1\n",
      "  (4135, 42448)\t1\n",
      "  (4135, 15625)\t1\n",
      "  (4135, 38773)\t1\n",
      "  (4135, 28189)\t1\n",
      "  (4135, 43204)\t1\n",
      "  (4135, 43465)\t1\n",
      "  (4135, 19776)\t1\n",
      "  (4135, 35592)\t1\n",
      "  (4135, 4952)\t1\n",
      "  (4135, 8478)\t1\n",
      "  (4135, 23046)\t1\n",
      "  (4135, 14532)\t1\n",
      "  (4135, 28026)\t1\n",
      "  (4135, 40656)\t1\n",
      "  (4135, 25773)\t1\n",
      "  (4135, 32738)\t1\n",
      "  (4135, 34248)\t1\n",
      "  (4135, 7292)\t1\n",
      "  (4135, 35332)\t1\n",
      "  (4135, 39520)\t1\n",
      "  (4135, 5534)\t1\n"
     ]
    }
   ],
   "source": [
    "print(X_train)\n",
    "print(X_train_features)"
   ]
  },
  {
   "cell_type": "code",
   "execution_count": 66,
   "id": "c0d8b4f3",
   "metadata": {},
   "outputs": [],
   "source": [
    "model = MultinomialNB()"
   ]
  },
  {
   "cell_type": "code",
   "execution_count": 67,
   "id": "ee364ffc",
   "metadata": {},
   "outputs": [
    {
     "data": {
      "text/plain": [
       "MultinomialNB()"
      ]
     },
     "execution_count": 67,
     "metadata": {},
     "output_type": "execute_result"
    }
   ],
   "source": [
    "model.fit(X_train_features , Y_train)"
   ]
  },
  {
   "cell_type": "code",
   "execution_count": 68,
   "id": "d294361e",
   "metadata": {},
   "outputs": [],
   "source": [
    "# evaluation\n",
    "# prediction on training data\n",
    "\n",
    "prediction_on_training_data = model.predict(X_train_features)\n",
    "\n",
    "accuracy_on_training_data = accuracy_score(Y_train ,prediction_on_training_data)"
   ]
  },
  {
   "cell_type": "code",
   "execution_count": 69,
   "id": "ec527123",
   "metadata": {},
   "outputs": [
    {
     "name": "stdout",
     "output_type": "stream",
     "text": [
      "accuracy on training data =  0.9859767891682786\n"
     ]
    }
   ],
   "source": [
    "print('accuracy on training data = ',accuracy_on_training_data)"
   ]
  },
  {
   "cell_type": "code",
   "execution_count": 70,
   "id": "b766f141",
   "metadata": {},
   "outputs": [
    {
     "data": {
      "text/plain": [
       "0.9826086956521739"
      ]
     },
     "execution_count": 70,
     "metadata": {},
     "output_type": "execute_result"
    }
   ],
   "source": [
    "# prediction on test data\n",
    "#so we are checking the accuracy on training and testing data to avoid overfitting of our model\n",
    "X_test_count = v.transform(X_test)\n",
    "model.score(X_test_count,Y_test)\n",
    "#prediction_on_test_data = model.predict(X_test_features)\n",
    "\n",
    "#accuracy_on_test_data = accuracy_score(Y_test ,prediction_on_test_data)"
   ]
  },
  {
   "cell_type": "code",
   "execution_count": 71,
   "id": "21e87041",
   "metadata": {},
   "outputs": [
    {
     "name": "stdout",
     "output_type": "stream",
     "text": [
      "[0 0]\n",
      "\n",
      "\n",
      "spam mail\n",
      "spam mail\n"
     ]
    }
   ],
   "source": [
    "# building a predictive system\n",
    "\n",
    "input_mail = [\"I'm gonna be home soon and i don't want to talk about this stuff anymore tonight, k? I've cried enough today.\",\"SIX chances to win CASH! From 100 to 20,000 pounds txt> CSH11 and send to 87575. Cost 150p/day, 6days, 16+ TsandCs apply Reply HL 4 info\"]\n",
    "\n",
    "# convert or transforming text to feature vector \n",
    "\n",
    "input_data_feature = v.transform(input_mail)\n",
    "\n",
    "#making predictions\n",
    "\n",
    "prediction = model.predict(input_data_feature)\n",
    "print(prediction)\n",
    "print('\\n')\n",
    "for i in range(0,len(input_mail)):\n",
    "    if prediction[i] == 1:\n",
    "        print('not spam mail')\n",
    "    else:\n",
    "        print('spam mail')"
   ]
  },
  {
   "cell_type": "code",
   "execution_count": null,
   "id": "1fafd931",
   "metadata": {},
   "outputs": [],
   "source": []
  }
 ],
 "metadata": {
  "kernelspec": {
   "display_name": "Python 3",
   "language": "python",
   "name": "python3"
  },
  "language_info": {
   "codemirror_mode": {
    "name": "ipython",
    "version": 3
   },
   "file_extension": ".py",
   "mimetype": "text/x-python",
   "name": "python",
   "nbconvert_exporter": "python",
   "pygments_lexer": "ipython3",
   "version": "3.8.8"
  }
 },
 "nbformat": 4,
 "nbformat_minor": 5
}
