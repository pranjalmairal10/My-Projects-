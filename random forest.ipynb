{
 "cells": [
  {
   "cell_type": "code",
   "execution_count": 15,
   "id": "1e7473a4",
   "metadata": {},
   "outputs": [],
   "source": [
    "import numpy as np\n",
    "import pandas as pd                                            #used to create dataframes which helps us to structure eour data more\n",
    "from sklearn.model_selection import train_test_split\n",
    "from sklearn.feature_extraction.text import TfidfVectorizer   # to convert text data into more meaningful data for machine or in more numerical way \n",
    "# so that our machine learning model can understand it using feature vectors\n",
    "from sklearn.feature_extraction.text import CountVectorizer\n",
    "from sklearn.ensemble import RandomForestClassifier \n",
    "from sklearn.pipeline import Pipeline\n",
    "from sklearn.metrics import accuracy_score"
   ]
  },
  {
   "cell_type": "code",
   "execution_count": 16,
   "id": "76a320cb",
   "metadata": {},
   "outputs": [],
   "source": [
    "raw_mails = pd.read_csv(\"C:\\\\Users\\\\HP\\\\Desktop\\\\nirma sem 5\\\\machine learning\\\\ML special\\\\spam_ham_dataset.csv\\\\spam_ham_dataset.csv\")"
   ]
  },
  {
   "cell_type": "code",
   "execution_count": 17,
   "id": "ecd36f6a",
   "metadata": {},
   "outputs": [
    {
     "data": {
      "text/html": [
       "<div>\n",
       "<style scoped>\n",
       "    .dataframe tbody tr th:only-of-type {\n",
       "        vertical-align: middle;\n",
       "    }\n",
       "\n",
       "    .dataframe tbody tr th {\n",
       "        vertical-align: top;\n",
       "    }\n",
       "\n",
       "    .dataframe thead th {\n",
       "        text-align: right;\n",
       "    }\n",
       "</style>\n",
       "<table border=\"1\" class=\"dataframe\">\n",
       "  <thead>\n",
       "    <tr style=\"text-align: right;\">\n",
       "      <th></th>\n",
       "      <th>Unnamed: 0</th>\n",
       "      <th>label</th>\n",
       "      <th>text</th>\n",
       "      <th>label_num</th>\n",
       "    </tr>\n",
       "  </thead>\n",
       "  <tbody>\n",
       "    <tr>\n",
       "      <th>0</th>\n",
       "      <td>605</td>\n",
       "      <td>ham</td>\n",
       "      <td>Subject: enron methanol ; meter # : 988291\\r\\n...</td>\n",
       "      <td>0</td>\n",
       "    </tr>\n",
       "    <tr>\n",
       "      <th>1</th>\n",
       "      <td>2349</td>\n",
       "      <td>ham</td>\n",
       "      <td>Subject: hpl nom for january 9 , 2001\\r\\n( see...</td>\n",
       "      <td>0</td>\n",
       "    </tr>\n",
       "    <tr>\n",
       "      <th>2</th>\n",
       "      <td>3624</td>\n",
       "      <td>ham</td>\n",
       "      <td>Subject: neon retreat\\r\\nho ho ho , we ' re ar...</td>\n",
       "      <td>0</td>\n",
       "    </tr>\n",
       "    <tr>\n",
       "      <th>3</th>\n",
       "      <td>4685</td>\n",
       "      <td>spam</td>\n",
       "      <td>Subject: photoshop , windows , office . cheap ...</td>\n",
       "      <td>1</td>\n",
       "    </tr>\n",
       "    <tr>\n",
       "      <th>4</th>\n",
       "      <td>2030</td>\n",
       "      <td>ham</td>\n",
       "      <td>Subject: re : indian springs\\r\\nthis deal is t...</td>\n",
       "      <td>0</td>\n",
       "    </tr>\n",
       "  </tbody>\n",
       "</table>\n",
       "</div>"
      ],
      "text/plain": [
       "   Unnamed: 0 label                                               text  \\\n",
       "0         605   ham  Subject: enron methanol ; meter # : 988291\\r\\n...   \n",
       "1        2349   ham  Subject: hpl nom for january 9 , 2001\\r\\n( see...   \n",
       "2        3624   ham  Subject: neon retreat\\r\\nho ho ho , we ' re ar...   \n",
       "3        4685  spam  Subject: photoshop , windows , office . cheap ...   \n",
       "4        2030   ham  Subject: re : indian springs\\r\\nthis deal is t...   \n",
       "\n",
       "   label_num  \n",
       "0          0  \n",
       "1          0  \n",
       "2          0  \n",
       "3          1  \n",
       "4          0  "
      ]
     },
     "execution_count": 17,
     "metadata": {},
     "output_type": "execute_result"
    }
   ],
   "source": [
    "# we have to replace null values or missing values with null strings\n",
    "mail_data = raw_mails.where((pd.notnull(raw_mails)),'')\n",
    "\n",
    "# getting the first 5 rows of our dataset\n",
    "mail_data.head()"
   ]
  },
  {
   "cell_type": "code",
   "execution_count": 18,
   "id": "3ec7e669",
   "metadata": {},
   "outputs": [
    {
     "data": {
      "text/plain": [
       "(5171, 4)"
      ]
     },
     "execution_count": 18,
     "metadata": {},
     "output_type": "execute_result"
    }
   ],
   "source": [
    "# checking number of rows and columns \n",
    "\n",
    "mail_data.shape"
   ]
  },
  {
   "cell_type": "code",
   "execution_count": 19,
   "id": "2416bdf0",
   "metadata": {},
   "outputs": [],
   "source": [
    "# label encoding that is we can term ham as 1 and spam as 0 just like true and false\n",
    "mail_data.loc[mail_data['label'] == 'spam' , 'label',] = 0\n",
    "mail_data.loc[mail_data['label'] == 'ham' , 'label',] = 1\n",
    "\n",
    "# not spam = 1\n",
    "# spam = 0"
   ]
  },
  {
   "cell_type": "code",
   "execution_count": 20,
   "id": "9f66a860",
   "metadata": {},
   "outputs": [],
   "source": [
    "# separating the data as text and labels\n",
    "# that is separating mails and the spam or ham column \n",
    "# 1 will be on each axis that is 0 or 1 will be on y axis and mails will be on x axis \n",
    "\n",
    "X = mail_data['text']\n",
    "\n",
    "Y = mail_data['label']"
   ]
  },
  {
   "cell_type": "code",
   "execution_count": 21,
   "id": "9ae354ba",
   "metadata": {},
   "outputs": [
    {
     "name": "stdout",
     "output_type": "stream",
     "text": [
      "0       Subject: enron methanol ; meter # : 988291\\r\\n...\n",
      "1       Subject: hpl nom for january 9 , 2001\\r\\n( see...\n",
      "2       Subject: neon retreat\\r\\nho ho ho , we ' re ar...\n",
      "3       Subject: photoshop , windows , office . cheap ...\n",
      "4       Subject: re : indian springs\\r\\nthis deal is t...\n",
      "                              ...                        \n",
      "5166    Subject: put the 10 on the ft\\r\\nthe transport...\n",
      "5167    Subject: 3 / 4 / 2000 and following noms\\r\\nhp...\n",
      "5168    Subject: calpine daily gas nomination\\r\\n>\\r\\n...\n",
      "5169    Subject: industrial worksheets for august 2000...\n",
      "5170    Subject: important online banking alert\\r\\ndea...\n",
      "Name: text, Length: 5171, dtype: object\n"
     ]
    }
   ],
   "source": [
    "print(X)\n"
   ]
  },
  {
   "cell_type": "code",
   "execution_count": 22,
   "id": "4dc24e66",
   "metadata": {},
   "outputs": [
    {
     "name": "stdout",
     "output_type": "stream",
     "text": [
      "0       1\n",
      "1       1\n",
      "2       1\n",
      "3       0\n",
      "4       1\n",
      "       ..\n",
      "5166    1\n",
      "5167    1\n",
      "5168    1\n",
      "5169    1\n",
      "5170    0\n",
      "Name: label, Length: 5171, dtype: object\n"
     ]
    }
   ],
   "source": [
    "print(Y)"
   ]
  },
  {
   "cell_type": "code",
   "execution_count": 23,
   "id": "b72a92ee",
   "metadata": {},
   "outputs": [],
   "source": [
    "# splitting our data into training and testing data \n",
    "# first we will train our logistic regression model\n",
    "# then we will test our data \n",
    "\n",
    "X_train , X_test , Y_train , Y_test = train_test_split(X,Y,test_size = 0.2,random_state = 3)\n",
    "\n",
    "#test_size = 0.2 means that we are taking 20% data for testing \n",
    "# so every time we run the code our data will get splitted same as previous one but if we set random_state = 2 then everytime our data will be splitted differently \n"
   ]
  },
  {
   "cell_type": "code",
   "execution_count": 24,
   "id": "b357c177",
   "metadata": {},
   "outputs": [
    {
     "name": "stdout",
     "output_type": "stream",
     "text": [
      "(4136,)\n",
      "(5171,)\n",
      "(1035,)\n",
      "2209    1\n",
      "2000    1\n",
      "5030    1\n",
      "1376    1\n",
      "1564    0\n",
      "       ..\n",
      "789     0\n",
      "968     0\n",
      "1667    1\n",
      "3321    1\n",
      "1688    0\n",
      "Name: label, Length: 4136, dtype: object\n"
     ]
    }
   ],
   "source": [
    "print(X_train.shape)\n",
    "print(X.shape)\n",
    "print(X_test.shape)\n",
    "print(Y_train)"
   ]
  },
  {
   "cell_type": "code",
   "execution_count": 34,
   "id": "12f146f8",
   "metadata": {},
   "outputs": [],
   "source": [
    "# feature extraction \n",
    "# transform the text data into feature vectors that can be used as input to our logistic regression model\n",
    "# so this vectorizer try to go through every word in your text and if suppose a word is repeated 1000 times then it will get a score or a value .\n",
    "# similarly it will scores or value and some will get higher score and some will get lower score and so on\n",
    "\n",
    "feature_extraction = TfidfVectorizer(min_df = 1,stop_words = 'english' , lowercase = 'true')\n",
    "\n",
    "# min_df = 1 means if the score of word is less than one than we have to ignore it \n",
    "# stop words are those words which will be repeated many no. of times but do not have any meaning such as (and ,or, the etc)\n",
    "\n",
    "X_train_features = feature_extraction.fit_transform(X_train)\n",
    "X_test_features = feature_extraction.transform(X_test)    # here we will not fit the test data because we dont want our model to look at this data\n",
    "\n",
    "# and for Y_test , Y_train we will convert all the values ie 0 1 to integer datatype and so that they will not be considered as string\n",
    "\n",
    "Y_train = Y_train.astype('int')\n",
    "Y_test = Y_test.astype('int')\n"
   ]
  },
  {
   "cell_type": "code",
   "execution_count": 35,
   "id": "82e880c2",
   "metadata": {},
   "outputs": [
    {
     "name": "stdout",
     "output_type": "stream",
     "text": [
      "2209    Subject: hplc to wellhead\\r\\ndaren here is the...\n",
      "2000    Subject: mobil chemical - hpl meter # 1256 - e...\n",
      "5030    Subject: revised nom 5 / 5 - eastrans ; revise...\n",
      "1376    Subject: re : exxon company , usa global # 960...\n",
      "1564    Subject: your pharmacy nx\\r\\nwant a cheap pain...\n",
      "                              ...                        \n",
      "789     Subject: incr ' ease yo ' ur man ' hood by 4 -...\n",
      "968     Subject: subscribers receive first notice on r...\n",
      "1667    Subject: neon for march 28\\r\\nhere is the neon...\n",
      "3321    Subject: re : first delivery - pure resources ...\n",
      "1688    Subject: enhance your chest size\\r\\nemail is l...\n",
      "Name: text, Length: 4136, dtype: object\n",
      "  (0, 3871)\t0.13387711316973605\n",
      "  (0, 531)\t0.14556222812251965\n",
      "  (0, 30451)\t0.08468916670398006\n",
      "  (0, 43273)\t0.14556222812251965\n",
      "  (0, 3890)\t0.14556222812251965\n",
      "  (0, 548)\t0.14556222812251965\n",
      "  (0, 37262)\t0.11275796314501375\n",
      "  (0, 2908)\t0.11535664415295803\n",
      "  (0, 456)\t0.14556222812251965\n",
      "  (0, 26297)\t0.09506000151609588\n",
      "  (0, 36190)\t0.11400727959297849\n",
      "  (0, 2478)\t0.13872687405852518\n",
      "  (0, 521)\t0.14556222812251965\n",
      "  (0, 16808)\t0.11843023142166303\n",
      "  (0, 22041)\t0.13387711316973605\n",
      "  (0, 2706)\t0.14556222812251965\n",
      "  (0, 522)\t0.14556222812251965\n",
      "  (0, 32060)\t0.07311834410351342\n",
      "  (0, 19411)\t0.04211028825505044\n",
      "  (0, 2537)\t0.13872687405852518\n",
      "  (0, 517)\t0.14556222812251965\n",
      "  (0, 19429)\t0.14556222812251965\n",
      "  (0, 16637)\t0.24438399643390496\n",
      "  (0, 3875)\t0.14556222812251965\n",
      "  (0, 836)\t0.14556222812251965\n",
      "  :\t:\n",
      "  (4135, 8873)\t0.07154271542163933\n",
      "  (4135, 16161)\t0.07327358549803296\n",
      "  (4135, 26936)\t0.07154271542163933\n",
      "  (4135, 15691)\t0.07812310961344454\n",
      "  (4135, 14167)\t0.07812310961344454\n",
      "  (4135, 11832)\t0.07539199926380867\n",
      "  (4135, 4961)\t0.07539199926380867\n",
      "  (4135, 7395)\t0.07154271542163933\n",
      "  (4135, 10238)\t0.06669319130622776\n",
      "  (4135, 29033)\t0.057994383348646844\n",
      "  (4135, 22458)\t0.05353240292261735\n",
      "  (4135, 14390)\t0.05726375354549545\n",
      "  (4135, 16537)\t0.07154271542163933\n",
      "  (4135, 42960)\t0.06496232122983413\n",
      "  (4135, 16217)\t0.06769343157946998\n",
      "  (4135, 26408)\t0.046488819206390516\n",
      "  (4135, 14282)\t0.06669319130622776\n",
      "  (4135, 27714)\t0.031300464660012135\n",
      "  (4135, 16475)\t0.03146157037949769\n",
      "  (4135, 38725)\t0.04124090788006661\n",
      "  (4135, 43426)\t0.05920796972538574\n",
      "  (4135, 20748)\t0.05068335935369024\n",
      "  (4135, 14513)\t0.056585357723181545\n",
      "  (4135, 36190)\t0.06420243561903816\n",
      "  (4135, 38946)\t0.009493502067611905\n"
     ]
    }
   ],
   "source": [
    "print(X_train)\n",
    "print(X_train_features)"
   ]
  },
  {
   "cell_type": "code",
   "execution_count": 36,
   "id": "ccd1a515",
   "metadata": {},
   "outputs": [],
   "source": [
    "model = RandomForestClassifier(random_state = 2529)"
   ]
  },
  {
   "cell_type": "code",
   "execution_count": 37,
   "id": "d4b269cc",
   "metadata": {},
   "outputs": [
    {
     "data": {
      "text/plain": [
       "RandomForestClassifier(random_state=2529)"
      ]
     },
     "execution_count": 37,
     "metadata": {},
     "output_type": "execute_result"
    }
   ],
   "source": [
    "model.fit(X_train_features , Y_train)"
   ]
  },
  {
   "cell_type": "code",
   "execution_count": 38,
   "id": "a0913882",
   "metadata": {},
   "outputs": [],
   "source": [
    "# evaluation\n",
    "# prediction on training data\n",
    "\n",
    "prediction_on_training_data = model.predict(X_train_features)\n",
    "\n",
    "accuracy_on_training_data = accuracy_score(Y_train ,prediction_on_training_data)"
   ]
  },
  {
   "cell_type": "code",
   "execution_count": 39,
   "id": "ba535b81",
   "metadata": {},
   "outputs": [
    {
     "name": "stdout",
     "output_type": "stream",
     "text": [
      "accuracy on training data =  1.0\n"
     ]
    }
   ],
   "source": [
    "print('accuracy on training data = ',accuracy_on_training_data)"
   ]
  },
  {
   "cell_type": "code",
   "execution_count": 41,
   "id": "919b2d5e",
   "metadata": {},
   "outputs": [
    {
     "data": {
      "text/plain": [
       "0.9758454106280193"
      ]
     },
     "execution_count": 41,
     "metadata": {},
     "output_type": "execute_result"
    }
   ],
   "source": [
    "# prediction on test data\n",
    "#so we are checking the accuracy on training and testing data to avoid overfitting of our model\n",
    "X_test_count = feature_extraction.transform(X_test)\n",
    "model.score(X_test_count,Y_test)\n",
    "#prediction_on_test_data = model.predict(X_test_features)\n",
    "\n",
    "#accuracy_on_test_data = accuracy_score(Y_test ,prediction_on_test_data)"
   ]
  },
  {
   "cell_type": "code",
   "execution_count": 46,
   "id": "ad8f423e",
   "metadata": {},
   "outputs": [
    {
     "name": "stdout",
     "output_type": "stream",
     "text": [
      "[0 0]\n",
      "\n",
      "\n",
      "spam mail\n",
      "spam mail\n"
     ]
    }
   ],
   "source": [
    "# building a predictive system\n",
    "\n",
    "input_mail = [\"i am not good\",\"SIX chances to win CASH! From 100 to 20,000 pounds txt> CSH11 and send to 87575. Cost 150p/day, 6days, 16+ TsandCs apply Reply HL 4 info\"]\n",
    "\n",
    "# convert or transforming text to feature vector \n",
    "\n",
    "input_data_feature = feature_extraction.transform(input_mail)\n",
    "\n",
    "#making predictions\n",
    "\n",
    "prediction = model.predict(input_data_feature)\n",
    "print(prediction)\n",
    "print('\\n')\n",
    "for i in range(0,len(input_mail)):\n",
    "    if prediction[i] == 1:\n",
    "        print('not spam mail')\n",
    "    else:\n",
    "        print('spam mail')"
   ]
  },
  {
   "cell_type": "code",
   "execution_count": null,
   "id": "baadbc27",
   "metadata": {},
   "outputs": [],
   "source": []
  }
 ],
 "metadata": {
  "kernelspec": {
   "display_name": "Python 3",
   "language": "python",
   "name": "python3"
  },
  "language_info": {
   "codemirror_mode": {
    "name": "ipython",
    "version": 3
   },
   "file_extension": ".py",
   "mimetype": "text/x-python",
   "name": "python",
   "nbconvert_exporter": "python",
   "pygments_lexer": "ipython3",
   "version": "3.8.8"
  }
 },
 "nbformat": 4,
 "nbformat_minor": 5
}
